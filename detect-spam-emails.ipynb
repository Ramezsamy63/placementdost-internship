{
 "cells": [
  {
   "cell_type": "markdown",
   "id": "601a0ae0",
   "metadata": {
    "execution": {
     "iopub.execute_input": "2024-05-06T08:34:49.393590Z",
     "iopub.status.busy": "2024-05-06T08:34:49.393160Z",
     "iopub.status.idle": "2024-05-06T08:34:51.329102Z",
     "shell.execute_reply": "2024-05-06T08:34:51.326769Z",
     "shell.execute_reply.started": "2024-05-06T08:34:49.393557Z"
    },
    "papermill": {
     "duration": 0.00725,
     "end_time": "2024-05-06T09:50:22.408594",
     "exception": false,
     "start_time": "2024-05-06T09:50:22.401344",
     "status": "completed"
    },
    "tags": []
   },
   "source": [
    "# importing needed libiraies"
   ]
  },
  {
   "cell_type": "code",
   "execution_count": 1,
   "id": "6267ee0f",
   "metadata": {
    "execution": {
     "iopub.execute_input": "2024-05-06T09:50:22.424597Z",
     "iopub.status.busy": "2024-05-06T09:50:22.423856Z",
     "iopub.status.idle": "2024-05-06T09:50:25.271942Z",
     "shell.execute_reply": "2024-05-06T09:50:25.270869Z"
    },
    "papermill": {
     "duration": 2.859117,
     "end_time": "2024-05-06T09:50:25.274467",
     "exception": false,
     "start_time": "2024-05-06T09:50:22.415350",
     "status": "completed"
    },
    "tags": []
   },
   "outputs": [
    {
     "name": "stdout",
     "output_type": "stream",
     "text": [
      "importing done\n"
     ]
    }
   ],
   "source": [
    "#library for storing data\n",
    "import pandas as pd\n",
    "import numpy as np\n",
    "#Libraries for ploting\n",
    "import seaborn as sns\n",
    "import matplotlib.pyplot as plt\n",
    "import plotly.express as px \n",
    "#import warnings to avoid any error\n",
    "import warnings\n",
    "warnings.filterwarnings('ignore')\n",
    "\n",
    "print(\"importing done\")"
   ]
  },
  {
   "cell_type": "markdown",
   "id": "936b5c31",
   "metadata": {
    "papermill": {
     "duration": 0.006671,
     "end_time": "2024-05-06T09:50:25.288170",
     "exception": false,
     "start_time": "2024-05-06T09:50:25.281499",
     "status": "completed"
    },
    "tags": []
   },
   "source": [
    "# reading and explore our data"
   ]
  },
  {
   "cell_type": "code",
   "execution_count": 2,
   "id": "3bc0ba3b",
   "metadata": {
    "execution": {
     "iopub.execute_input": "2024-05-06T09:50:25.304280Z",
     "iopub.status.busy": "2024-05-06T09:50:25.303274Z",
     "iopub.status.idle": "2024-05-06T09:50:25.350322Z",
     "shell.execute_reply": "2024-05-06T09:50:25.349213Z"
    },
    "papermill": {
     "duration": 0.057974,
     "end_time": "2024-05-06T09:50:25.353030",
     "exception": false,
     "start_time": "2024-05-06T09:50:25.295056",
     "status": "completed"
    },
    "tags": []
   },
   "outputs": [],
   "source": [
    "df = pd.read_csv(\"/kaggle/input/spam-email/spam.csv\")\n"
   ]
  },
  {
   "cell_type": "code",
   "execution_count": 3,
   "id": "96b1bca0",
   "metadata": {
    "execution": {
     "iopub.execute_input": "2024-05-06T09:50:25.370247Z",
     "iopub.status.busy": "2024-05-06T09:50:25.369183Z",
     "iopub.status.idle": "2024-05-06T09:50:25.388937Z",
     "shell.execute_reply": "2024-05-06T09:50:25.387878Z"
    },
    "papermill": {
     "duration": 0.031312,
     "end_time": "2024-05-06T09:50:25.391204",
     "exception": false,
     "start_time": "2024-05-06T09:50:25.359892",
     "status": "completed"
    },
    "tags": []
   },
   "outputs": [
    {
     "data": {
      "text/html": [
       "<div>\n",
       "<style scoped>\n",
       "    .dataframe tbody tr th:only-of-type {\n",
       "        vertical-align: middle;\n",
       "    }\n",
       "\n",
       "    .dataframe tbody tr th {\n",
       "        vertical-align: top;\n",
       "    }\n",
       "\n",
       "    .dataframe thead th {\n",
       "        text-align: right;\n",
       "    }\n",
       "</style>\n",
       "<table border=\"1\" class=\"dataframe\">\n",
       "  <thead>\n",
       "    <tr style=\"text-align: right;\">\n",
       "      <th></th>\n",
       "      <th>Category</th>\n",
       "      <th>Message</th>\n",
       "    </tr>\n",
       "  </thead>\n",
       "  <tbody>\n",
       "    <tr>\n",
       "      <th>0</th>\n",
       "      <td>ham</td>\n",
       "      <td>Go until jurong point, crazy.. Available only ...</td>\n",
       "    </tr>\n",
       "    <tr>\n",
       "      <th>1</th>\n",
       "      <td>ham</td>\n",
       "      <td>Ok lar... Joking wif u oni...</td>\n",
       "    </tr>\n",
       "    <tr>\n",
       "      <th>2</th>\n",
       "      <td>spam</td>\n",
       "      <td>Free entry in 2 a wkly comp to win FA Cup fina...</td>\n",
       "    </tr>\n",
       "    <tr>\n",
       "      <th>3</th>\n",
       "      <td>ham</td>\n",
       "      <td>U dun say so early hor... U c already then say...</td>\n",
       "    </tr>\n",
       "    <tr>\n",
       "      <th>4</th>\n",
       "      <td>ham</td>\n",
       "      <td>Nah I don't think he goes to usf, he lives aro...</td>\n",
       "    </tr>\n",
       "  </tbody>\n",
       "</table>\n",
       "</div>"
      ],
      "text/plain": [
       "  Category                                            Message\n",
       "0      ham  Go until jurong point, crazy.. Available only ...\n",
       "1      ham                      Ok lar... Joking wif u oni...\n",
       "2     spam  Free entry in 2 a wkly comp to win FA Cup fina...\n",
       "3      ham  U dun say so early hor... U c already then say...\n",
       "4      ham  Nah I don't think he goes to usf, he lives aro..."
      ]
     },
     "execution_count": 3,
     "metadata": {},
     "output_type": "execute_result"
    }
   ],
   "source": [
    "df.head()"
   ]
  },
  {
   "cell_type": "code",
   "execution_count": 4,
   "id": "8578e11c",
   "metadata": {
    "execution": {
     "iopub.execute_input": "2024-05-06T09:50:25.407470Z",
     "iopub.status.busy": "2024-05-06T09:50:25.406686Z",
     "iopub.status.idle": "2024-05-06T09:50:25.430877Z",
     "shell.execute_reply": "2024-05-06T09:50:25.429594Z"
    },
    "papermill": {
     "duration": 0.035096,
     "end_time": "2024-05-06T09:50:25.433297",
     "exception": false,
     "start_time": "2024-05-06T09:50:25.398201",
     "status": "completed"
    },
    "tags": []
   },
   "outputs": [
    {
     "name": "stdout",
     "output_type": "stream",
     "text": [
      "<class 'pandas.core.frame.DataFrame'>\n",
      "RangeIndex: 5572 entries, 0 to 5571\n",
      "Data columns (total 2 columns):\n",
      " #   Column    Non-Null Count  Dtype \n",
      "---  ------    --------------  ----- \n",
      " 0   Category  5572 non-null   object\n",
      " 1   Message   5572 non-null   object\n",
      "dtypes: object(2)\n",
      "memory usage: 87.2+ KB\n"
     ]
    }
   ],
   "source": [
    "df.info()"
   ]
  },
  {
   "cell_type": "code",
   "execution_count": 5,
   "id": "29b9dea1",
   "metadata": {
    "execution": {
     "iopub.execute_input": "2024-05-06T09:50:25.450711Z",
     "iopub.status.busy": "2024-05-06T09:50:25.450227Z",
     "iopub.status.idle": "2024-05-06T09:50:25.457740Z",
     "shell.execute_reply": "2024-05-06T09:50:25.456787Z"
    },
    "papermill": {
     "duration": 0.01907,
     "end_time": "2024-05-06T09:50:25.459720",
     "exception": false,
     "start_time": "2024-05-06T09:50:25.440650",
     "status": "completed"
    },
    "tags": []
   },
   "outputs": [
    {
     "data": {
      "text/plain": [
       "(5572, 2)"
      ]
     },
     "execution_count": 5,
     "metadata": {},
     "output_type": "execute_result"
    }
   ],
   "source": [
    "df.shape"
   ]
  },
  {
   "cell_type": "code",
   "execution_count": 6,
   "id": "b340aeff",
   "metadata": {
    "execution": {
     "iopub.execute_input": "2024-05-06T09:50:25.476090Z",
     "iopub.status.busy": "2024-05-06T09:50:25.475267Z",
     "iopub.status.idle": "2024-05-06T09:50:25.484078Z",
     "shell.execute_reply": "2024-05-06T09:50:25.483153Z"
    },
    "papermill": {
     "duration": 0.019201,
     "end_time": "2024-05-06T09:50:25.486105",
     "exception": false,
     "start_time": "2024-05-06T09:50:25.466904",
     "status": "completed"
    },
    "tags": []
   },
   "outputs": [
    {
     "data": {
      "text/plain": [
       "Category    0\n",
       "Message     0\n",
       "dtype: int64"
      ]
     },
     "execution_count": 6,
     "metadata": {},
     "output_type": "execute_result"
    }
   ],
   "source": [
    "df.isnull().sum()"
   ]
  },
  {
   "cell_type": "markdown",
   "id": "6b6ce5a2",
   "metadata": {
    "papermill": {
     "duration": 0.006912,
     "end_time": "2024-05-06T09:50:25.500397",
     "exception": false,
     "start_time": "2024-05-06T09:50:25.493485",
     "status": "completed"
    },
    "tags": []
   },
   "source": [
    "# preprocessing to make our data ready to fit it in model"
   ]
  },
  {
   "cell_type": "code",
   "execution_count": 7,
   "id": "9a40146c",
   "metadata": {
    "execution": {
     "iopub.execute_input": "2024-05-06T09:50:25.516615Z",
     "iopub.status.busy": "2024-05-06T09:50:25.516201Z",
     "iopub.status.idle": "2024-05-06T09:50:25.525821Z",
     "shell.execute_reply": "2024-05-06T09:50:25.524758Z"
    },
    "papermill": {
     "duration": 0.020218,
     "end_time": "2024-05-06T09:50:25.527901",
     "exception": false,
     "start_time": "2024-05-06T09:50:25.507683",
     "status": "completed"
    },
    "tags": []
   },
   "outputs": [
    {
     "data": {
      "text/plain": [
       "4825"
      ]
     },
     "execution_count": 7,
     "metadata": {},
     "output_type": "execute_result"
    }
   ],
   "source": [
    "len(df[df.Category == \"ham\"]) # ham = not spam "
   ]
  },
  {
   "cell_type": "code",
   "execution_count": 8,
   "id": "746a5457",
   "metadata": {
    "execution": {
     "iopub.execute_input": "2024-05-06T09:50:25.544550Z",
     "iopub.status.busy": "2024-05-06T09:50:25.544160Z",
     "iopub.status.idle": "2024-05-06T09:50:25.552773Z",
     "shell.execute_reply": "2024-05-06T09:50:25.551680Z"
    },
    "papermill": {
     "duration": 0.019566,
     "end_time": "2024-05-06T09:50:25.554916",
     "exception": false,
     "start_time": "2024-05-06T09:50:25.535350",
     "status": "completed"
    },
    "tags": []
   },
   "outputs": [
    {
     "data": {
      "text/plain": [
       "747"
      ]
     },
     "execution_count": 8,
     "metadata": {},
     "output_type": "execute_result"
    }
   ],
   "source": [
    "len(df[df.Category == \"spam\"])"
   ]
  },
  {
   "cell_type": "code",
   "execution_count": 9,
   "id": "04d61836",
   "metadata": {
    "execution": {
     "iopub.execute_input": "2024-05-06T09:50:25.572059Z",
     "iopub.status.busy": "2024-05-06T09:50:25.571257Z",
     "iopub.status.idle": "2024-05-06T09:50:25.602770Z",
     "shell.execute_reply": "2024-05-06T09:50:25.601712Z"
    },
    "papermill": {
     "duration": 0.042396,
     "end_time": "2024-05-06T09:50:25.604907",
     "exception": false,
     "start_time": "2024-05-06T09:50:25.562511",
     "status": "completed"
    },
    "tags": []
   },
   "outputs": [
    {
     "data": {
      "text/html": [
       "<div>\n",
       "<style scoped>\n",
       "    .dataframe tbody tr th:only-of-type {\n",
       "        vertical-align: middle;\n",
       "    }\n",
       "\n",
       "    .dataframe tbody tr th {\n",
       "        vertical-align: top;\n",
       "    }\n",
       "\n",
       "    .dataframe thead tr th {\n",
       "        text-align: left;\n",
       "    }\n",
       "\n",
       "    .dataframe thead tr:last-of-type th {\n",
       "        text-align: right;\n",
       "    }\n",
       "</style>\n",
       "<table border=\"1\" class=\"dataframe\">\n",
       "  <thead>\n",
       "    <tr>\n",
       "      <th></th>\n",
       "      <th colspan=\"4\" halign=\"left\">Message</th>\n",
       "    </tr>\n",
       "    <tr>\n",
       "      <th></th>\n",
       "      <th>count</th>\n",
       "      <th>unique</th>\n",
       "      <th>top</th>\n",
       "      <th>freq</th>\n",
       "    </tr>\n",
       "    <tr>\n",
       "      <th>Category</th>\n",
       "      <th></th>\n",
       "      <th></th>\n",
       "      <th></th>\n",
       "      <th></th>\n",
       "    </tr>\n",
       "  </thead>\n",
       "  <tbody>\n",
       "    <tr>\n",
       "      <th>ham</th>\n",
       "      <td>4825</td>\n",
       "      <td>4516</td>\n",
       "      <td>Sorry, I'll call later</td>\n",
       "      <td>30</td>\n",
       "    </tr>\n",
       "    <tr>\n",
       "      <th>spam</th>\n",
       "      <td>747</td>\n",
       "      <td>641</td>\n",
       "      <td>Please call our customer service representativ...</td>\n",
       "      <td>4</td>\n",
       "    </tr>\n",
       "  </tbody>\n",
       "</table>\n",
       "</div>"
      ],
      "text/plain": [
       "         Message                                                            \\\n",
       "           count unique                                                top   \n",
       "Category                                                                     \n",
       "ham         4825   4516                             Sorry, I'll call later   \n",
       "spam         747    641  Please call our customer service representativ...   \n",
       "\n",
       "               \n",
       "         freq  \n",
       "Category       \n",
       "ham        30  \n",
       "spam        4  "
      ]
     },
     "execution_count": 9,
     "metadata": {},
     "output_type": "execute_result"
    }
   ],
   "source": [
    "df.groupby('Category').describe()"
   ]
  },
  {
   "cell_type": "code",
   "execution_count": 10,
   "id": "de98eeb9",
   "metadata": {
    "execution": {
     "iopub.execute_input": "2024-05-06T09:50:25.622510Z",
     "iopub.status.busy": "2024-05-06T09:50:25.621803Z",
     "iopub.status.idle": "2024-05-06T09:50:25.629311Z",
     "shell.execute_reply": "2024-05-06T09:50:25.628591Z"
    },
    "papermill": {
     "duration": 0.018512,
     "end_time": "2024-05-06T09:50:25.631328",
     "exception": false,
     "start_time": "2024-05-06T09:50:25.612816",
     "status": "completed"
    },
    "tags": []
   },
   "outputs": [],
   "source": [
    "df[\"spam\"] = df[\"Category\"].replace(to_replace=[\"ham\", \"spam\"], value=[0,1])"
   ]
  },
  {
   "cell_type": "code",
   "execution_count": 11,
   "id": "b2f28ad2",
   "metadata": {
    "execution": {
     "iopub.execute_input": "2024-05-06T09:50:25.648587Z",
     "iopub.status.busy": "2024-05-06T09:50:25.647917Z",
     "iopub.status.idle": "2024-05-06T09:50:25.659265Z",
     "shell.execute_reply": "2024-05-06T09:50:25.658189Z"
    },
    "papermill": {
     "duration": 0.022637,
     "end_time": "2024-05-06T09:50:25.661626",
     "exception": false,
     "start_time": "2024-05-06T09:50:25.638989",
     "status": "completed"
    },
    "tags": []
   },
   "outputs": [
    {
     "data": {
      "text/html": [
       "<div>\n",
       "<style scoped>\n",
       "    .dataframe tbody tr th:only-of-type {\n",
       "        vertical-align: middle;\n",
       "    }\n",
       "\n",
       "    .dataframe tbody tr th {\n",
       "        vertical-align: top;\n",
       "    }\n",
       "\n",
       "    .dataframe thead th {\n",
       "        text-align: right;\n",
       "    }\n",
       "</style>\n",
       "<table border=\"1\" class=\"dataframe\">\n",
       "  <thead>\n",
       "    <tr style=\"text-align: right;\">\n",
       "      <th></th>\n",
       "      <th>Category</th>\n",
       "      <th>Message</th>\n",
       "      <th>spam</th>\n",
       "    </tr>\n",
       "  </thead>\n",
       "  <tbody>\n",
       "    <tr>\n",
       "      <th>0</th>\n",
       "      <td>ham</td>\n",
       "      <td>Go until jurong point, crazy.. Available only ...</td>\n",
       "      <td>0</td>\n",
       "    </tr>\n",
       "    <tr>\n",
       "      <th>1</th>\n",
       "      <td>ham</td>\n",
       "      <td>Ok lar... Joking wif u oni...</td>\n",
       "      <td>0</td>\n",
       "    </tr>\n",
       "    <tr>\n",
       "      <th>2</th>\n",
       "      <td>spam</td>\n",
       "      <td>Free entry in 2 a wkly comp to win FA Cup fina...</td>\n",
       "      <td>1</td>\n",
       "    </tr>\n",
       "    <tr>\n",
       "      <th>3</th>\n",
       "      <td>ham</td>\n",
       "      <td>U dun say so early hor... U c already then say...</td>\n",
       "      <td>0</td>\n",
       "    </tr>\n",
       "    <tr>\n",
       "      <th>4</th>\n",
       "      <td>ham</td>\n",
       "      <td>Nah I don't think he goes to usf, he lives aro...</td>\n",
       "      <td>0</td>\n",
       "    </tr>\n",
       "    <tr>\n",
       "      <th>...</th>\n",
       "      <td>...</td>\n",
       "      <td>...</td>\n",
       "      <td>...</td>\n",
       "    </tr>\n",
       "    <tr>\n",
       "      <th>5567</th>\n",
       "      <td>spam</td>\n",
       "      <td>This is the 2nd time we have tried 2 contact u...</td>\n",
       "      <td>1</td>\n",
       "    </tr>\n",
       "    <tr>\n",
       "      <th>5568</th>\n",
       "      <td>ham</td>\n",
       "      <td>Will ü b going to esplanade fr home?</td>\n",
       "      <td>0</td>\n",
       "    </tr>\n",
       "    <tr>\n",
       "      <th>5569</th>\n",
       "      <td>ham</td>\n",
       "      <td>Pity, * was in mood for that. So...any other s...</td>\n",
       "      <td>0</td>\n",
       "    </tr>\n",
       "    <tr>\n",
       "      <th>5570</th>\n",
       "      <td>ham</td>\n",
       "      <td>The guy did some bitching but I acted like i'd...</td>\n",
       "      <td>0</td>\n",
       "    </tr>\n",
       "    <tr>\n",
       "      <th>5571</th>\n",
       "      <td>ham</td>\n",
       "      <td>Rofl. Its true to its name</td>\n",
       "      <td>0</td>\n",
       "    </tr>\n",
       "  </tbody>\n",
       "</table>\n",
       "<p>5572 rows × 3 columns</p>\n",
       "</div>"
      ],
      "text/plain": [
       "     Category                                            Message  spam\n",
       "0         ham  Go until jurong point, crazy.. Available only ...     0\n",
       "1         ham                      Ok lar... Joking wif u oni...     0\n",
       "2        spam  Free entry in 2 a wkly comp to win FA Cup fina...     1\n",
       "3         ham  U dun say so early hor... U c already then say...     0\n",
       "4         ham  Nah I don't think he goes to usf, he lives aro...     0\n",
       "...       ...                                                ...   ...\n",
       "5567     spam  This is the 2nd time we have tried 2 contact u...     1\n",
       "5568      ham               Will ü b going to esplanade fr home?     0\n",
       "5569      ham  Pity, * was in mood for that. So...any other s...     0\n",
       "5570      ham  The guy did some bitching but I acted like i'd...     0\n",
       "5571      ham                         Rofl. Its true to its name     0\n",
       "\n",
       "[5572 rows x 3 columns]"
      ]
     },
     "execution_count": 11,
     "metadata": {},
     "output_type": "execute_result"
    }
   ],
   "source": [
    "df"
   ]
  },
  {
   "cell_type": "code",
   "execution_count": 12,
   "id": "f40c44e2",
   "metadata": {
    "execution": {
     "iopub.execute_input": "2024-05-06T09:50:25.679883Z",
     "iopub.status.busy": "2024-05-06T09:50:25.678969Z",
     "iopub.status.idle": "2024-05-06T09:50:25.693199Z",
     "shell.execute_reply": "2024-05-06T09:50:25.692129Z"
    },
    "papermill": {
     "duration": 0.025731,
     "end_time": "2024-05-06T09:50:25.695403",
     "exception": false,
     "start_time": "2024-05-06T09:50:25.669672",
     "status": "completed"
    },
    "tags": []
   },
   "outputs": [
    {
     "data": {
      "text/html": [
       "<div>\n",
       "<style scoped>\n",
       "    .dataframe tbody tr th:only-of-type {\n",
       "        vertical-align: middle;\n",
       "    }\n",
       "\n",
       "    .dataframe tbody tr th {\n",
       "        vertical-align: top;\n",
       "    }\n",
       "\n",
       "    .dataframe thead th {\n",
       "        text-align: right;\n",
       "    }\n",
       "</style>\n",
       "<table border=\"1\" class=\"dataframe\">\n",
       "  <thead>\n",
       "    <tr style=\"text-align: right;\">\n",
       "      <th></th>\n",
       "      <th>Category</th>\n",
       "      <th>Message</th>\n",
       "      <th>spam</th>\n",
       "    </tr>\n",
       "  </thead>\n",
       "  <tbody>\n",
       "    <tr>\n",
       "      <th>0</th>\n",
       "      <td>ham</td>\n",
       "      <td>Go until jurong point, crazy.. Available only ...</td>\n",
       "      <td>0</td>\n",
       "    </tr>\n",
       "    <tr>\n",
       "      <th>1</th>\n",
       "      <td>ham</td>\n",
       "      <td>Ok lar... Joking wif u oni...</td>\n",
       "      <td>0</td>\n",
       "    </tr>\n",
       "    <tr>\n",
       "      <th>2</th>\n",
       "      <td>spam</td>\n",
       "      <td>Free entry in 2 a wkly comp to win FA Cup fina...</td>\n",
       "      <td>1</td>\n",
       "    </tr>\n",
       "    <tr>\n",
       "      <th>3</th>\n",
       "      <td>ham</td>\n",
       "      <td>U dun say so early hor... U c already then say...</td>\n",
       "      <td>0</td>\n",
       "    </tr>\n",
       "    <tr>\n",
       "      <th>4</th>\n",
       "      <td>ham</td>\n",
       "      <td>Nah I don't think he goes to usf, he lives aro...</td>\n",
       "      <td>0</td>\n",
       "    </tr>\n",
       "    <tr>\n",
       "      <th>...</th>\n",
       "      <td>...</td>\n",
       "      <td>...</td>\n",
       "      <td>...</td>\n",
       "    </tr>\n",
       "    <tr>\n",
       "      <th>5567</th>\n",
       "      <td>spam</td>\n",
       "      <td>This is the 2nd time we have tried 2 contact u...</td>\n",
       "      <td>1</td>\n",
       "    </tr>\n",
       "    <tr>\n",
       "      <th>5568</th>\n",
       "      <td>ham</td>\n",
       "      <td>Will ü b going to esplanade fr home?</td>\n",
       "      <td>0</td>\n",
       "    </tr>\n",
       "    <tr>\n",
       "      <th>5569</th>\n",
       "      <td>ham</td>\n",
       "      <td>Pity, * was in mood for that. So...any other s...</td>\n",
       "      <td>0</td>\n",
       "    </tr>\n",
       "    <tr>\n",
       "      <th>5570</th>\n",
       "      <td>ham</td>\n",
       "      <td>The guy did some bitching but I acted like i'd...</td>\n",
       "      <td>0</td>\n",
       "    </tr>\n",
       "    <tr>\n",
       "      <th>5571</th>\n",
       "      <td>ham</td>\n",
       "      <td>Rofl. Its true to its name</td>\n",
       "      <td>0</td>\n",
       "    </tr>\n",
       "  </tbody>\n",
       "</table>\n",
       "<p>5572 rows × 3 columns</p>\n",
       "</div>"
      ],
      "text/plain": [
       "     Category                                            Message  spam\n",
       "0         ham  Go until jurong point, crazy.. Available only ...     0\n",
       "1         ham                      Ok lar... Joking wif u oni...     0\n",
       "2        spam  Free entry in 2 a wkly comp to win FA Cup fina...     1\n",
       "3         ham  U dun say so early hor... U c already then say...     0\n",
       "4         ham  Nah I don't think he goes to usf, he lives aro...     0\n",
       "...       ...                                                ...   ...\n",
       "5567     spam  This is the 2nd time we have tried 2 contact u...     1\n",
       "5568      ham               Will ü b going to esplanade fr home?     0\n",
       "5569      ham  Pity, * was in mood for that. So...any other s...     0\n",
       "5570      ham  The guy did some bitching but I acted like i'd...     0\n",
       "5571      ham                         Rofl. Its true to its name     0\n",
       "\n",
       "[5572 rows x 3 columns]"
      ]
     },
     "execution_count": 12,
     "metadata": {},
     "output_type": "execute_result"
    }
   ],
   "source": [
    "df['spam']= df['Category'].apply(lambda x: 1 if x=='spam' else 0)\n",
    "df"
   ]
  },
  {
   "cell_type": "markdown",
   "id": "ae40b823",
   "metadata": {
    "papermill": {
     "duration": 0.007732,
     "end_time": "2024-05-06T09:50:25.711298",
     "exception": false,
     "start_time": "2024-05-06T09:50:25.703566",
     "status": "completed"
    },
    "tags": []
   },
   "source": [
    "# split our data by using train train_test_split"
   ]
  },
  {
   "cell_type": "code",
   "execution_count": 13,
   "id": "7451687f",
   "metadata": {
    "execution": {
     "iopub.execute_input": "2024-05-06T09:50:25.729986Z",
     "iopub.status.busy": "2024-05-06T09:50:25.729002Z",
     "iopub.status.idle": "2024-05-06T09:50:25.968004Z",
     "shell.execute_reply": "2024-05-06T09:50:25.966754Z"
    },
    "papermill": {
     "duration": 0.251205,
     "end_time": "2024-05-06T09:50:25.970711",
     "exception": false,
     "start_time": "2024-05-06T09:50:25.719506",
     "status": "completed"
    },
    "tags": []
   },
   "outputs": [],
   "source": [
    "from sklearn.model_selection import train_test_split\n",
    "X_train, X_test, y_train, y_test = train_test_split(df.Message,df.spam, train_size=.8)"
   ]
  },
  {
   "cell_type": "code",
   "execution_count": 14,
   "id": "60f7a94f",
   "metadata": {
    "execution": {
     "iopub.execute_input": "2024-05-06T09:50:25.988950Z",
     "iopub.status.busy": "2024-05-06T09:50:25.988574Z",
     "iopub.status.idle": "2024-05-06T09:50:25.995618Z",
     "shell.execute_reply": "2024-05-06T09:50:25.994851Z"
    },
    "papermill": {
     "duration": 0.018419,
     "end_time": "2024-05-06T09:50:25.997581",
     "exception": false,
     "start_time": "2024-05-06T09:50:25.979162",
     "status": "completed"
    },
    "tags": []
   },
   "outputs": [
    {
     "data": {
      "text/plain": [
       "1013    0\n",
       "3779    0\n",
       "3854    0\n",
       "4909    0\n",
       "5374    0\n",
       "       ..\n",
       "4239    0\n",
       "4639    0\n",
       "3434    0\n",
       "4177    0\n",
       "3164    1\n",
       "Name: spam, Length: 4457, dtype: int64"
      ]
     },
     "execution_count": 14,
     "metadata": {},
     "output_type": "execute_result"
    }
   ],
   "source": [
    "y_train"
   ]
  },
  {
   "cell_type": "code",
   "execution_count": 15,
   "id": "b059d76b",
   "metadata": {
    "execution": {
     "iopub.execute_input": "2024-05-06T09:50:26.016371Z",
     "iopub.status.busy": "2024-05-06T09:50:26.015710Z",
     "iopub.status.idle": "2024-05-06T09:50:26.021459Z",
     "shell.execute_reply": "2024-05-06T09:50:26.020694Z"
    },
    "papermill": {
     "duration": 0.017395,
     "end_time": "2024-05-06T09:50:26.023385",
     "exception": false,
     "start_time": "2024-05-06T09:50:26.005990",
     "status": "completed"
    },
    "tags": []
   },
   "outputs": [
    {
     "data": {
      "text/plain": [
       "10"
      ]
     },
     "execution_count": 15,
     "metadata": {},
     "output_type": "execute_result"
    }
   ],
   "source": [
    "len(X_train[:1].to_list()[0].split())"
   ]
  },
  {
   "cell_type": "code",
   "execution_count": 16,
   "id": "3392c518",
   "metadata": {
    "execution": {
     "iopub.execute_input": "2024-05-06T09:50:26.042208Z",
     "iopub.status.busy": "2024-05-06T09:50:26.041603Z",
     "iopub.status.idle": "2024-05-06T09:50:26.262014Z",
     "shell.execute_reply": "2024-05-06T09:50:26.261139Z"
    },
    "papermill": {
     "duration": 0.232401,
     "end_time": "2024-05-06T09:50:26.264195",
     "exception": false,
     "start_time": "2024-05-06T09:50:26.031794",
     "status": "completed"
    },
    "tags": []
   },
   "outputs": [
    {
     "data": {
      "text/plain": [
       "(7739,)"
      ]
     },
     "execution_count": 16,
     "metadata": {},
     "output_type": "execute_result"
    }
   ],
   "source": [
    "\n",
    "from sklearn.feature_extraction.text import CountVectorizer\n",
    "v = CountVectorizer()\n",
    "X_train_count = v.fit_transform(X_train.values)\n",
    "X_train_count.toarray()[0].shape\n"
   ]
  },
  {
   "cell_type": "code",
   "execution_count": 17,
   "id": "c426e8a2",
   "metadata": {
    "execution": {
     "iopub.execute_input": "2024-05-06T09:50:26.283245Z",
     "iopub.status.busy": "2024-05-06T09:50:26.282634Z",
     "iopub.status.idle": "2024-05-06T09:50:26.288931Z",
     "shell.execute_reply": "2024-05-06T09:50:26.287904Z"
    },
    "papermill": {
     "duration": 0.018425,
     "end_time": "2024-05-06T09:50:26.291150",
     "exception": false,
     "start_time": "2024-05-06T09:50:26.272725",
     "status": "completed"
    },
    "tags": []
   },
   "outputs": [
    {
     "data": {
      "text/plain": [
       "<4457x7739 sparse matrix of type '<class 'numpy.int64'>'\n",
       "\twith 59606 stored elements in Compressed Sparse Row format>"
      ]
     },
     "execution_count": 17,
     "metadata": {},
     "output_type": "execute_result"
    }
   ],
   "source": [
    "X_train_count"
   ]
  },
  {
   "cell_type": "markdown",
   "id": "2ce3399f",
   "metadata": {
    "papermill": {
     "duration": 0.00827,
     "end_time": "2024-05-06T09:50:26.308201",
     "exception": false,
     "start_time": "2024-05-06T09:50:26.299931",
     "status": "completed"
    },
    "tags": []
   },
   "source": [
    "# we ill use naive_bayes algorithm"
   ]
  },
  {
   "cell_type": "code",
   "execution_count": 18,
   "id": "55638a0c",
   "metadata": {
    "execution": {
     "iopub.execute_input": "2024-05-06T09:50:26.326903Z",
     "iopub.status.busy": "2024-05-06T09:50:26.326517Z",
     "iopub.status.idle": "2024-05-06T09:50:26.342284Z",
     "shell.execute_reply": "2024-05-06T09:50:26.341241Z"
    },
    "papermill": {
     "duration": 0.027543,
     "end_time": "2024-05-06T09:50:26.344247",
     "exception": false,
     "start_time": "2024-05-06T09:50:26.316704",
     "status": "completed"
    },
    "tags": []
   },
   "outputs": [
    {
     "data": {
      "text/html": [
       "<style>#sk-container-id-1 {color: black;background-color: white;}#sk-container-id-1 pre{padding: 0;}#sk-container-id-1 div.sk-toggleable {background-color: white;}#sk-container-id-1 label.sk-toggleable__label {cursor: pointer;display: block;width: 100%;margin-bottom: 0;padding: 0.3em;box-sizing: border-box;text-align: center;}#sk-container-id-1 label.sk-toggleable__label-arrow:before {content: \"▸\";float: left;margin-right: 0.25em;color: #696969;}#sk-container-id-1 label.sk-toggleable__label-arrow:hover:before {color: black;}#sk-container-id-1 div.sk-estimator:hover label.sk-toggleable__label-arrow:before {color: black;}#sk-container-id-1 div.sk-toggleable__content {max-height: 0;max-width: 0;overflow: hidden;text-align: left;background-color: #f0f8ff;}#sk-container-id-1 div.sk-toggleable__content pre {margin: 0.2em;color: black;border-radius: 0.25em;background-color: #f0f8ff;}#sk-container-id-1 input.sk-toggleable__control:checked~div.sk-toggleable__content {max-height: 200px;max-width: 100%;overflow: auto;}#sk-container-id-1 input.sk-toggleable__control:checked~label.sk-toggleable__label-arrow:before {content: \"▾\";}#sk-container-id-1 div.sk-estimator input.sk-toggleable__control:checked~label.sk-toggleable__label {background-color: #d4ebff;}#sk-container-id-1 div.sk-label input.sk-toggleable__control:checked~label.sk-toggleable__label {background-color: #d4ebff;}#sk-container-id-1 input.sk-hidden--visually {border: 0;clip: rect(1px 1px 1px 1px);clip: rect(1px, 1px, 1px, 1px);height: 1px;margin: -1px;overflow: hidden;padding: 0;position: absolute;width: 1px;}#sk-container-id-1 div.sk-estimator {font-family: monospace;background-color: #f0f8ff;border: 1px dotted black;border-radius: 0.25em;box-sizing: border-box;margin-bottom: 0.5em;}#sk-container-id-1 div.sk-estimator:hover {background-color: #d4ebff;}#sk-container-id-1 div.sk-parallel-item::after {content: \"\";width: 100%;border-bottom: 1px solid gray;flex-grow: 1;}#sk-container-id-1 div.sk-label:hover label.sk-toggleable__label {background-color: #d4ebff;}#sk-container-id-1 div.sk-serial::before {content: \"\";position: absolute;border-left: 1px solid gray;box-sizing: border-box;top: 0;bottom: 0;left: 50%;z-index: 0;}#sk-container-id-1 div.sk-serial {display: flex;flex-direction: column;align-items: center;background-color: white;padding-right: 0.2em;padding-left: 0.2em;position: relative;}#sk-container-id-1 div.sk-item {position: relative;z-index: 1;}#sk-container-id-1 div.sk-parallel {display: flex;align-items: stretch;justify-content: center;background-color: white;position: relative;}#sk-container-id-1 div.sk-item::before, #sk-container-id-1 div.sk-parallel-item::before {content: \"\";position: absolute;border-left: 1px solid gray;box-sizing: border-box;top: 0;bottom: 0;left: 50%;z-index: -1;}#sk-container-id-1 div.sk-parallel-item {display: flex;flex-direction: column;z-index: 1;position: relative;background-color: white;}#sk-container-id-1 div.sk-parallel-item:first-child::after {align-self: flex-end;width: 50%;}#sk-container-id-1 div.sk-parallel-item:last-child::after {align-self: flex-start;width: 50%;}#sk-container-id-1 div.sk-parallel-item:only-child::after {width: 0;}#sk-container-id-1 div.sk-dashed-wrapped {border: 1px dashed gray;margin: 0 0.4em 0.5em 0.4em;box-sizing: border-box;padding-bottom: 0.4em;background-color: white;}#sk-container-id-1 div.sk-label label {font-family: monospace;font-weight: bold;display: inline-block;line-height: 1.2em;}#sk-container-id-1 div.sk-label-container {text-align: center;}#sk-container-id-1 div.sk-container {/* jupyter's `normalize.less` sets `[hidden] { display: none; }` but bootstrap.min.css set `[hidden] { display: none !important; }` so we also need the `!important` here to be able to override the default hidden behavior on the sphinx rendered scikit-learn.org. See: https://github.com/scikit-learn/scikit-learn/issues/21755 */display: inline-block !important;position: relative;}#sk-container-id-1 div.sk-text-repr-fallback {display: none;}</style><div id=\"sk-container-id-1\" class=\"sk-top-container\"><div class=\"sk-text-repr-fallback\"><pre>MultinomialNB()</pre><b>In a Jupyter environment, please rerun this cell to show the HTML representation or trust the notebook. <br />On GitHub, the HTML representation is unable to render, please try loading this page with nbviewer.org.</b></div><div class=\"sk-container\" hidden><div class=\"sk-item\"><div class=\"sk-estimator sk-toggleable\"><input class=\"sk-toggleable__control sk-hidden--visually\" id=\"sk-estimator-id-1\" type=\"checkbox\" checked><label for=\"sk-estimator-id-1\" class=\"sk-toggleable__label sk-toggleable__label-arrow\">MultinomialNB</label><div class=\"sk-toggleable__content\"><pre>MultinomialNB()</pre></div></div></div></div></div>"
      ],
      "text/plain": [
       "MultinomialNB()"
      ]
     },
     "execution_count": 18,
     "metadata": {},
     "output_type": "execute_result"
    }
   ],
   "source": [
    "from sklearn.naive_bayes import MultinomialNB\n",
    "model = MultinomialNB()\n",
    "model.fit(X_train_count,y_train)"
   ]
  },
  {
   "cell_type": "markdown",
   "id": "d569ee1c",
   "metadata": {
    "papermill": {
     "duration": 0.008527,
     "end_time": "2024-05-06T09:50:26.361495",
     "exception": false,
     "start_time": "2024-05-06T09:50:26.352968",
     "status": "completed"
    },
    "tags": []
   },
   "source": [
    "# check CountVectorizer function"
   ]
  },
  {
   "cell_type": "code",
   "execution_count": 19,
   "id": "89589090",
   "metadata": {
    "execution": {
     "iopub.execute_input": "2024-05-06T09:50:26.381874Z",
     "iopub.status.busy": "2024-05-06T09:50:26.380872Z",
     "iopub.status.idle": "2024-05-06T09:50:26.390263Z",
     "shell.execute_reply": "2024-05-06T09:50:26.389298Z"
    },
    "papermill": {
     "duration": 0.021435,
     "end_time": "2024-05-06T09:50:26.392318",
     "exception": false,
     "start_time": "2024-05-06T09:50:26.370883",
     "status": "completed"
    },
    "tags": []
   },
   "outputs": [
    {
     "data": {
      "text/plain": [
       "array([0, 1])"
      ]
     },
     "execution_count": 19,
     "metadata": {},
     "output_type": "execute_result"
    }
   ],
   "source": [
    "emails = [\n",
    "    'Hey Mohamed, can we get together to watch football game tomorrow?',\n",
    "    'Upto 20% discount on parking, exclusive offer just for you. Dont miss this reward!'\n",
    "]\n",
    "emails_count = v.transform(emails)\n",
    "model.predict(emails_count)"
   ]
  },
  {
   "cell_type": "markdown",
   "id": "749db40a",
   "metadata": {
    "papermill": {
     "duration": 0.008526,
     "end_time": "2024-05-06T09:50:26.409720",
     "exception": false,
     "start_time": "2024-05-06T09:50:26.401194",
     "status": "completed"
    },
    "tags": []
   },
   "source": [
    "# our model accuracy"
   ]
  },
  {
   "cell_type": "code",
   "execution_count": 20,
   "id": "f69f2700",
   "metadata": {
    "execution": {
     "iopub.execute_input": "2024-05-06T09:50:26.429058Z",
     "iopub.status.busy": "2024-05-06T09:50:26.428703Z",
     "iopub.status.idle": "2024-05-06T09:50:26.454665Z",
     "shell.execute_reply": "2024-05-06T09:50:26.453715Z"
    },
    "papermill": {
     "duration": 0.038049,
     "end_time": "2024-05-06T09:50:26.456621",
     "exception": false,
     "start_time": "2024-05-06T09:50:26.418572",
     "status": "completed"
    },
    "tags": []
   },
   "outputs": [
    {
     "data": {
      "text/plain": [
       "0.9865470852017937"
      ]
     },
     "execution_count": 20,
     "metadata": {},
     "output_type": "execute_result"
    }
   ],
   "source": [
    "X_test_count = v.transform(X_test)\n",
    "model.score(X_test_count, y_test)"
   ]
  },
  {
   "cell_type": "code",
   "execution_count": 21,
   "id": "29a4b8b2",
   "metadata": {
    "execution": {
     "iopub.execute_input": "2024-05-06T09:50:26.476629Z",
     "iopub.status.busy": "2024-05-06T09:50:26.476191Z",
     "iopub.status.idle": "2024-05-06T09:50:26.482839Z",
     "shell.execute_reply": "2024-05-06T09:50:26.481907Z"
    },
    "papermill": {
     "duration": 0.019299,
     "end_time": "2024-05-06T09:50:26.485046",
     "exception": false,
     "start_time": "2024-05-06T09:50:26.465747",
     "status": "completed"
    },
    "tags": []
   },
   "outputs": [],
   "source": [
    "from sklearn.pipeline import Pipeline\n",
    "clf = Pipeline([\n",
    "    ('vectorizer', CountVectorizer()),\n",
    "    ('nb', MultinomialNB())\n",
    "])"
   ]
  },
  {
   "cell_type": "code",
   "execution_count": 22,
   "id": "4f74c7d4",
   "metadata": {
    "execution": {
     "iopub.execute_input": "2024-05-06T09:50:26.504889Z",
     "iopub.status.busy": "2024-05-06T09:50:26.504522Z",
     "iopub.status.idle": "2024-05-06T09:50:26.601801Z",
     "shell.execute_reply": "2024-05-06T09:50:26.600668Z"
    },
    "papermill": {
     "duration": 0.109929,
     "end_time": "2024-05-06T09:50:26.604187",
     "exception": false,
     "start_time": "2024-05-06T09:50:26.494258",
     "status": "completed"
    },
    "tags": []
   },
   "outputs": [
    {
     "data": {
      "text/html": [
       "<style>#sk-container-id-2 {color: black;background-color: white;}#sk-container-id-2 pre{padding: 0;}#sk-container-id-2 div.sk-toggleable {background-color: white;}#sk-container-id-2 label.sk-toggleable__label {cursor: pointer;display: block;width: 100%;margin-bottom: 0;padding: 0.3em;box-sizing: border-box;text-align: center;}#sk-container-id-2 label.sk-toggleable__label-arrow:before {content: \"▸\";float: left;margin-right: 0.25em;color: #696969;}#sk-container-id-2 label.sk-toggleable__label-arrow:hover:before {color: black;}#sk-container-id-2 div.sk-estimator:hover label.sk-toggleable__label-arrow:before {color: black;}#sk-container-id-2 div.sk-toggleable__content {max-height: 0;max-width: 0;overflow: hidden;text-align: left;background-color: #f0f8ff;}#sk-container-id-2 div.sk-toggleable__content pre {margin: 0.2em;color: black;border-radius: 0.25em;background-color: #f0f8ff;}#sk-container-id-2 input.sk-toggleable__control:checked~div.sk-toggleable__content {max-height: 200px;max-width: 100%;overflow: auto;}#sk-container-id-2 input.sk-toggleable__control:checked~label.sk-toggleable__label-arrow:before {content: \"▾\";}#sk-container-id-2 div.sk-estimator input.sk-toggleable__control:checked~label.sk-toggleable__label {background-color: #d4ebff;}#sk-container-id-2 div.sk-label input.sk-toggleable__control:checked~label.sk-toggleable__label {background-color: #d4ebff;}#sk-container-id-2 input.sk-hidden--visually {border: 0;clip: rect(1px 1px 1px 1px);clip: rect(1px, 1px, 1px, 1px);height: 1px;margin: -1px;overflow: hidden;padding: 0;position: absolute;width: 1px;}#sk-container-id-2 div.sk-estimator {font-family: monospace;background-color: #f0f8ff;border: 1px dotted black;border-radius: 0.25em;box-sizing: border-box;margin-bottom: 0.5em;}#sk-container-id-2 div.sk-estimator:hover {background-color: #d4ebff;}#sk-container-id-2 div.sk-parallel-item::after {content: \"\";width: 100%;border-bottom: 1px solid gray;flex-grow: 1;}#sk-container-id-2 div.sk-label:hover label.sk-toggleable__label {background-color: #d4ebff;}#sk-container-id-2 div.sk-serial::before {content: \"\";position: absolute;border-left: 1px solid gray;box-sizing: border-box;top: 0;bottom: 0;left: 50%;z-index: 0;}#sk-container-id-2 div.sk-serial {display: flex;flex-direction: column;align-items: center;background-color: white;padding-right: 0.2em;padding-left: 0.2em;position: relative;}#sk-container-id-2 div.sk-item {position: relative;z-index: 1;}#sk-container-id-2 div.sk-parallel {display: flex;align-items: stretch;justify-content: center;background-color: white;position: relative;}#sk-container-id-2 div.sk-item::before, #sk-container-id-2 div.sk-parallel-item::before {content: \"\";position: absolute;border-left: 1px solid gray;box-sizing: border-box;top: 0;bottom: 0;left: 50%;z-index: -1;}#sk-container-id-2 div.sk-parallel-item {display: flex;flex-direction: column;z-index: 1;position: relative;background-color: white;}#sk-container-id-2 div.sk-parallel-item:first-child::after {align-self: flex-end;width: 50%;}#sk-container-id-2 div.sk-parallel-item:last-child::after {align-self: flex-start;width: 50%;}#sk-container-id-2 div.sk-parallel-item:only-child::after {width: 0;}#sk-container-id-2 div.sk-dashed-wrapped {border: 1px dashed gray;margin: 0 0.4em 0.5em 0.4em;box-sizing: border-box;padding-bottom: 0.4em;background-color: white;}#sk-container-id-2 div.sk-label label {font-family: monospace;font-weight: bold;display: inline-block;line-height: 1.2em;}#sk-container-id-2 div.sk-label-container {text-align: center;}#sk-container-id-2 div.sk-container {/* jupyter's `normalize.less` sets `[hidden] { display: none; }` but bootstrap.min.css set `[hidden] { display: none !important; }` so we also need the `!important` here to be able to override the default hidden behavior on the sphinx rendered scikit-learn.org. See: https://github.com/scikit-learn/scikit-learn/issues/21755 */display: inline-block !important;position: relative;}#sk-container-id-2 div.sk-text-repr-fallback {display: none;}</style><div id=\"sk-container-id-2\" class=\"sk-top-container\"><div class=\"sk-text-repr-fallback\"><pre>Pipeline(steps=[(&#x27;vectorizer&#x27;, CountVectorizer()), (&#x27;nb&#x27;, MultinomialNB())])</pre><b>In a Jupyter environment, please rerun this cell to show the HTML representation or trust the notebook. <br />On GitHub, the HTML representation is unable to render, please try loading this page with nbviewer.org.</b></div><div class=\"sk-container\" hidden><div class=\"sk-item sk-dashed-wrapped\"><div class=\"sk-label-container\"><div class=\"sk-label sk-toggleable\"><input class=\"sk-toggleable__control sk-hidden--visually\" id=\"sk-estimator-id-2\" type=\"checkbox\" ><label for=\"sk-estimator-id-2\" class=\"sk-toggleable__label sk-toggleable__label-arrow\">Pipeline</label><div class=\"sk-toggleable__content\"><pre>Pipeline(steps=[(&#x27;vectorizer&#x27;, CountVectorizer()), (&#x27;nb&#x27;, MultinomialNB())])</pre></div></div></div><div class=\"sk-serial\"><div class=\"sk-item\"><div class=\"sk-estimator sk-toggleable\"><input class=\"sk-toggleable__control sk-hidden--visually\" id=\"sk-estimator-id-3\" type=\"checkbox\" ><label for=\"sk-estimator-id-3\" class=\"sk-toggleable__label sk-toggleable__label-arrow\">CountVectorizer</label><div class=\"sk-toggleable__content\"><pre>CountVectorizer()</pre></div></div></div><div class=\"sk-item\"><div class=\"sk-estimator sk-toggleable\"><input class=\"sk-toggleable__control sk-hidden--visually\" id=\"sk-estimator-id-4\" type=\"checkbox\" ><label for=\"sk-estimator-id-4\" class=\"sk-toggleable__label sk-toggleable__label-arrow\">MultinomialNB</label><div class=\"sk-toggleable__content\"><pre>MultinomialNB()</pre></div></div></div></div></div></div></div>"
      ],
      "text/plain": [
       "Pipeline(steps=[('vectorizer', CountVectorizer()), ('nb', MultinomialNB())])"
      ]
     },
     "execution_count": 22,
     "metadata": {},
     "output_type": "execute_result"
    }
   ],
   "source": [
    "clf.fit(X_train, y_train)"
   ]
  },
  {
   "cell_type": "code",
   "execution_count": 23,
   "id": "17d8553b",
   "metadata": {
    "execution": {
     "iopub.execute_input": "2024-05-06T09:50:26.624728Z",
     "iopub.status.busy": "2024-05-06T09:50:26.624079Z",
     "iopub.status.idle": "2024-05-06T09:50:26.649930Z",
     "shell.execute_reply": "2024-05-06T09:50:26.649099Z"
    },
    "papermill": {
     "duration": 0.038707,
     "end_time": "2024-05-06T09:50:26.652305",
     "exception": false,
     "start_time": "2024-05-06T09:50:26.613598",
     "status": "completed"
    },
    "tags": []
   },
   "outputs": [
    {
     "data": {
      "text/plain": [
       "0.9865470852017937"
      ]
     },
     "execution_count": 23,
     "metadata": {},
     "output_type": "execute_result"
    }
   ],
   "source": [
    "clf.score(X_test,y_test)"
   ]
  },
  {
   "cell_type": "code",
   "execution_count": 24,
   "id": "8b247b81",
   "metadata": {
    "execution": {
     "iopub.execute_input": "2024-05-06T09:50:26.673693Z",
     "iopub.status.busy": "2024-05-06T09:50:26.673061Z",
     "iopub.status.idle": "2024-05-06T09:50:26.681177Z",
     "shell.execute_reply": "2024-05-06T09:50:26.680463Z"
    },
    "papermill": {
     "duration": 0.020638,
     "end_time": "2024-05-06T09:50:26.683030",
     "exception": false,
     "start_time": "2024-05-06T09:50:26.662392",
     "status": "completed"
    },
    "tags": []
   },
   "outputs": [
    {
     "data": {
      "text/plain": [
       "array([0, 1])"
      ]
     },
     "execution_count": 24,
     "metadata": {},
     "output_type": "execute_result"
    }
   ],
   "source": [
    "clf.predict(emails)"
   ]
  }
 ],
 "metadata": {
  "kaggle": {
   "accelerator": "none",
   "dataSources": [
    {
     "datasetId": 4948702,
     "sourceId": 8333447,
     "sourceType": "datasetVersion"
    }
   ],
   "dockerImageVersionId": 30698,
   "isGpuEnabled": false,
   "isInternetEnabled": true,
   "language": "python",
   "sourceType": "notebook"
  },
  "kernelspec": {
   "display_name": "Python 3",
   "language": "python",
   "name": "python3"
  },
  "language_info": {
   "codemirror_mode": {
    "name": "ipython",
    "version": 3
   },
   "file_extension": ".py",
   "mimetype": "text/x-python",
   "name": "python",
   "nbconvert_exporter": "python",
   "pygments_lexer": "ipython3",
   "version": "3.10.13"
  },
  "papermill": {
   "default_parameters": {},
   "duration": 7.667166,
   "end_time": "2024-05-06T09:50:27.313607",
   "environment_variables": {},
   "exception": null,
   "input_path": "__notebook__.ipynb",
   "output_path": "__notebook__.ipynb",
   "parameters": {},
   "start_time": "2024-05-06T09:50:19.646441",
   "version": "2.5.0"
  }
 },
 "nbformat": 4,
 "nbformat_minor": 5
}
